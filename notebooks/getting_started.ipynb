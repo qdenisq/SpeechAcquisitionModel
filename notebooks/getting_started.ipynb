{
 "cells": [
  {
   "cell_type": "markdown",
   "metadata": {
    "collapsed": true
   },
   "source": [
    "# Getting started with speech acquisition model"
   ]
  },
  {
   "cell_type": "code",
   "execution_count": 1,
   "metadata": {},
   "outputs": [
    {
     "name": "stderr",
     "output_type": "stream",
     "text": [
      "C:\\ProgramData\\Anaconda3\\lib\\site-packages\\h5py\\__init__.py:34: FutureWarning: Conversion of the second argument of issubdtype from `float` to `np.floating` is deprecated. In future, it will be treated as `np.float64 == np.dtype(float).type`.\n",
      "  from ._conv import register_converters as _register_converters\n"
     ]
    }
   ],
   "source": [
    "import tensorflow as tf\n",
    "import numpy as np\n",
    "import utils"
   ]
  },
  {
   "cell_type": "markdown",
   "metadata": {},
   "source": [
    "## 1 - how to create simple feedforward network"
   ]
  },
  {
   "cell_type": "code",
   "execution_count": 4,
   "metadata": {},
   "outputs": [],
   "source": [
    "tf.reset_default_graph()\n",
    "map1 = tf.random_uniform(shape=[3, 2], seed=0)\n",
    "map2 = tf.zeros((10, 5))\n",
    "\n",
    "weights = tf.Variable(tf.random_uniform(shape=[tf.size(map1), tf.size(map2)], maxval=0.5, seed=0))\n",
    "\n",
    "# forward pass\n",
    "map1flat = tf.reshape(map1, shape=[tf.size(map1), 1])\n",
    "map2actflat = tf.matmul(tf.transpose(weights), map1flat)\n",
    "map2act = tf.reshape(map2actflat, shape=map2.shape)\n",
    "\n",
    "# winner neuron\n",
    "winner = tf.argmax(map2actflat)\n",
    "x_win = tf.div(winner, 10)\n",
    "y_win = tf.mod(winner, 10)\n",
    "win = tf.cast(tf.stack([x_win, y_win]), dtype = tf.float32)\n",
    "win = utils.argmax_2d(map2actflat)\n",
    "winner_weights = weights[:, tf.reshape(winner, [])]\n",
    "# calc dist from all neurons n map2 to winner neuron\n",
    "# x = tf.linspace(0., 9., 10)\n",
    "# y = tf.linspace(0., 4., 5)\n",
    "# X, Y = tf.meshgrid(x, y)\n",
    "# mesh = tf.stack([X, Y], axis=-1)\n",
    "mesh = utils.mesh_2d(tf.shape(map2)[0], tf.shape(map2)[1])\n",
    "\n",
    "d = tf.subtract(tf.reshape(tf.to_float(mesh), shape=[50,2]), tf.to_float(tf.transpose(win)))\n",
    "dist = tf.norm(d, axis=-1)\n",
    "lr = tf.constant(0.01)\n",
    "\n",
    "h = tf.exp(tf.divide(tf.multiply(-0.5, dist), 5)) * lr\n",
    "# tf.sub(Y, y_win)\n",
    "# dist = tf.norm(mesh - )\n",
    "\n",
    "# update weights\n",
    "delta = tf.multiply(tf.subtract(weights, map1flat), h)\n",
    "update_weights = tf.assign(weights, tf.subtract(weights, delta))"
   ]
  },
  {
   "cell_type": "code",
   "execution_count": 5,
   "metadata": {},
   "outputs": [
    {
     "name": "stdout",
     "output_type": "stream",
     "text": [
      "[[0.5488135  0.71518937]\n",
      " [0.60276338 0.54488318]\n",
      " [0.4236548  0.64589411]]\n",
      "[0.43497086 0.40522742 0.3713679  0.4903518  0.45765388 0.47576955] [41]\n"
     ]
    }
   ],
   "source": [
    "sess = tf.InteractiveSession()\n",
    "sess.run(tf.global_variables_initializer())\n",
    "np.random.seed(0)\n",
    "act1 = np.random.rand(3,2)\n",
    "print(act1)\n",
    "for i in range(100):\n",
    "    \n",
    "    out, delta_out, win_weights, win_ind = sess.run((update_weights, delta, winner_weights, winner), feed_dict = {map1: act1})\n",
    "#     print(win_ind)\n",
    "# print(np.asarray(out[0]).reshape((10,10)))\n",
    "# print(np.asarray(out[1]).reshape((10,10)))\n",
    "print(win_weights, win_ind)\n",
    "sess.close()"
   ]
  },
  {
   "cell_type": "code",
   "execution_count": 6,
   "metadata": {},
   "outputs": [
    {
     "ename": "TypeError",
     "evalue": "add() missing 2 required positional arguments: 'x' and 'y'",
     "traceback": [
      "\u001b[1;31m---------------------------------------------------------------------------\u001b[0m",
      "\u001b[1;31mTypeError\u001b[0m                                 Traceback (most recent call last)",
      "\u001b[1;32m<ipython-input-6-1b5eb62cb814>\u001b[0m in \u001b[0;36m<module>\u001b[1;34m()\u001b[0m\n\u001b[0;32m      2\u001b[0m \u001b[0madd_y\u001b[0m \u001b[1;33m=\u001b[0m \u001b[0mtf\u001b[0m\u001b[1;33m.\u001b[0m\u001b[0madd\u001b[0m\u001b[1;33m(\u001b[0m\u001b[0my\u001b[0m\u001b[1;33m,\u001b[0m \u001b[1;36m1\u001b[0m\u001b[1;33m)\u001b[0m\u001b[1;33m\u001b[0m\u001b[0m\n\u001b[0;32m      3\u001b[0m \u001b[0mupdate_y\u001b[0m \u001b[1;33m=\u001b[0m \u001b[0mtf\u001b[0m\u001b[1;33m.\u001b[0m\u001b[0massign\u001b[0m\u001b[1;33m(\u001b[0m\u001b[0my\u001b[0m\u001b[1;33m,\u001b[0m \u001b[0madd_y\u001b[0m\u001b[1;33m)\u001b[0m\u001b[1;33m\u001b[0m\u001b[0m\n\u001b[1;32m----> 4\u001b[1;33m \u001b[0mx\u001b[0m \u001b[1;33m=\u001b[0m \u001b[0mtf\u001b[0m\u001b[1;33m.\u001b[0m\u001b[0madd\u001b[0m\u001b[1;33m(\u001b[0m\u001b[1;33m)\u001b[0m\u001b[1;33m\u001b[0m\u001b[0m\n\u001b[0m\u001b[0;32m      5\u001b[0m \u001b[0minit_op\u001b[0m \u001b[1;33m=\u001b[0m \u001b[0mtf\u001b[0m\u001b[1;33m.\u001b[0m\u001b[0mglobal_variables_initializer\u001b[0m\u001b[1;33m(\u001b[0m\u001b[1;33m)\u001b[0m\u001b[1;33m\u001b[0m\u001b[0m\n\u001b[0;32m      6\u001b[0m \u001b[1;32mwith\u001b[0m \u001b[0mtf\u001b[0m\u001b[1;33m.\u001b[0m\u001b[0mSession\u001b[0m\u001b[1;33m(\u001b[0m\u001b[1;33m)\u001b[0m \u001b[1;32mas\u001b[0m \u001b[0msess\u001b[0m\u001b[1;33m:\u001b[0m\u001b[1;33m\u001b[0m\u001b[0m\n",
      "\u001b[1;31mTypeError\u001b[0m: add() missing 2 required positional arguments: 'x' and 'y'"
     ],
     "output_type": "error"
    }
   ],
   "source": [
    "y = tf.Variable(0)\n",
    "add_y = tf.add(y, 1)\n",
    "update_y = tf.assign(y, add_y)\n",
    "x = tf.add()\n",
    "init_op = tf.global_variables_initializer()\n",
    "with tf.Session() as sess:\n",
    "    sess.run(init_op)\n",
    "    for i in range(10):\n",
    "        output = sess.run(update)\n",
    "        print(output)\n",
    "print(output)"
   ]
  },
  {
   "cell_type": "code",
   "execution_count": 2,
   "metadata": {},
   "outputs": [
    {
     "name": "stdout",
     "output_type": "stream",
     "text": [
      "(5, 10, 2)\n"
     ]
    }
   ],
   "source": [
    "mesh = utils.mesh_2d(10, 5)\n",
    "init_op = tf.global_variables_initializer()\n",
    "with tf.Session() as sess:\n",
    "    sess.run(init_op)\n",
    "    output = sess.run(mesh)\n",
    "print(output.shape)"
   ]
  },
  {
   "cell_type": "code",
   "execution_count": null,
   "metadata": {},
   "outputs": [],
   "source": [
    ""
   ]
  }
 ],
 "metadata": {
  "kernelspec": {
   "display_name": "Python 3",
   "language": "python",
   "name": "python3"
  },
  "language_info": {
   "codemirror_mode": {
    "name": "ipython",
    "version": 3.0
   },
   "file_extension": ".py",
   "mimetype": "text/x-python",
   "name": "python",
   "nbconvert_exporter": "python",
   "pygments_lexer": "ipython3",
   "version": "3.6.3"
  }
 },
 "nbformat": 4,
 "nbformat_minor": 0
}