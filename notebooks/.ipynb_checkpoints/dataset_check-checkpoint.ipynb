{
 "cells": [
  {
   "cell_type": "code",
   "execution_count": 1,
   "metadata": {},
   "outputs": [],
   "source": [
    "import sys\n",
    "sys.path.append(r'C:\\Study\\SpeechAcquisitionModel')\n",
    "import numpy as np\n",
    "import pandas as pd\n",
    "import torch\n",
    "import os\n",
    "from src.speech_classification.audio_processing import AudioPreprocessorFbank, SpeechCommandsDataCollector\n",
    "from src.speech_classification.pytorch_conv_lstm import LstmNet, LstmNetEnsemble\n",
    "import random\n",
    "\n",
    "import matplotlib.pyplot as plt\n",
    "%matplotlib inline"
   ]
  },
  {
   "cell_type": "code",
   "execution_count": 3,
   "metadata": {},
   "outputs": [],
   "source": [
    "\n",
    "wanted_words = ['bed', 'bird', 'cat', 'dog', 'down', 'eight', 'five', 'four', 'go', 'happy', 'house', 'left', 'marvin',\n",
    "                'nine', 'no', 'off', 'on', 'one', 'right', 'seven', 'sheila', 'six', 'stop', 'three', 'tree', 'two',\n",
    "                'up', 'wow', 'yes', 'zero']\n",
    "wanted_words_tanh_transition = ['a_a', 'a_i', 'a_u', 'a_o',\n",
    "                                'i_a', 'i_i', 'i_u', 'i_o',\n",
    "                                'u_a', 'u_i', 'u_u', 'u_o',\n",
    "                                'o_a', 'o_i', 'o_u', 'o_o' ]\n",
    "\n",
    "wanted_words_combined = wanted_words_tanh_transition\n",
    "model_settings = {\n",
    "    'dct_coefficient_count': 26,\n",
    "    'label_count': len(wanted_words_combined) + 2,\n",
    "    'hidden_reccurent_cells_count': 64,\n",
    "    'winlen': 0.04,\n",
    "    'winstep': 0.04,\n",
    "    'num_nets': 5\n",
    "}\n",
    "preproc = AudioPreprocessorFbank(model_settings['dct_coefficient_count'],\n",
    "                                 winlen=model_settings['winlen'],\n",
    "                                 winstep=model_settings['winstep'])"
   ]
  },
  {
   "cell_type": "code",
   "execution_count": 4,
   "metadata": {},
   "outputs": [
    {
     "name": "stdout",
     "output_type": "stream",
     "text": [
      "(4800, 5)\n"
     ]
    }
   ],
   "source": [
    "data_dir=r'C:\\Study\\Speech_command_classification\\speech_dataset'\n",
    "dataset_fname = r'C:\\Study\\SpeechAcquisitionModel\\data\\raw\\Simple_transitions_s2s\\07_04_2019_01_11_PM_31\\07_04_2019_01_11_PM_31.pd'\n",
    "df = pd.read_pickle(dataset_fname)\n",
    "\n",
    "print(df.shape)"
   ]
  },
  {
   "cell_type": "markdown",
   "metadata": {},
   "source": [
    "## Random sample"
   ]
  },
  {
   "cell_type": "code",
   "execution_count": 93,
   "metadata": {},
   "outputs": [
    {
     "name": "stdout",
     "output_type": "stream",
     "text": [
      "y                                                        a_u\n",
      "audio      [[-0.012374370224165829, -0.01307165354858851,...\n",
      "states     [[0.25306912258391423, -4.28832887126474, -0.0...\n",
      "actions    [[-0.008297485988780105, 0.003912226716603468,...\n",
      "labels     [a, a, a, a, a, a, a, a, a, a, a, a, au, au, a...\n",
      "Name: 805, dtype: object\n"
     ]
    }
   ],
   "source": [
    "i = np.random.randint(0, df.shape[0])\n",
    "sr = 22050\n",
    "sample = df.iloc[i]\n",
    "print(sample)\n",
    "audio = sample['audio'].flatten()\n",
    "# audio = np.int16(sample['audio'].flatten() * (2 ** 15 - 1))\n",
    "audio_proc = preproc(audio,  sr)"
   ]
  },
  {
   "cell_type": "code",
   "execution_count": 94,
   "metadata": {},
   "outputs": [
    {
     "data": {
      "image/png": "[encoded data removed]",
      "text/plain": [
       "<matplotlib.figure.Figure at 0x6b428a20>"
      ]
     },
     "metadata": {},
     "output_type": "display_data"
    }
   ],
   "source": [
    "offset = 2\n",
    "plt.figure(figsize=(10,5))\n",
    "plt.imshow(audio_proc.T[:, offset:] ,aspect='auto')\n",
    "plt.colorbar()\n",
    "_ = plt.xticks(np.arange(0, audio_proc.shape[0] - offset), sample['labels'][offset:])\n",
    "plt.show()\n",
    "\n",
    "# plt.autoscale()"
   ]
  },
  {
   "cell_type": "code",
   "execution_count": null,
   "metadata": {},
   "outputs": [],
   "source": []
  }
 ],
 "metadata": {
  "kernelspec": {
   "display_name": "Python 3",
   "language": "python",
   "name": "python3"
  },
  "language_info": {
   "codemirror_mode": {
    "name": "ipython",
    "version": 3
   },
   "file_extension": ".py",
   "mimetype": "text/x-python",
   "name": "python",
   "nbconvert_exporter": "python",
   "pygments_lexer": "ipython3",
   "version": "3.6.3"
  }
 },
 "nbformat": 4,
 "nbformat_minor": 1
}
