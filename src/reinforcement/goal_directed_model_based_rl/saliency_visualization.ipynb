{
 "cells": [
  {
   "cell_type": "code",
   "execution_count": 17,
   "metadata": {},
   "outputs": [],
   "source": []
  },
  {
   "cell_type": "code",
   "execution_count": 3,
   "metadata": {},
   "outputs": [
    {
     "name": "stdout",
     "output_type": "stream",
     "text": [
      "C:\\Study\\SpeechAcquisitionModel\\src\\reinforcement\\goal_directed_model_based_rl\n"
     ]
    }
   ],
   "source": [
    "import json\n",
    "from pprint import pprint\n",
    "import os\n",
    "import numpy as np\n",
    "import pandas as pd\n",
    "import datetime\n",
    "import matplotlib.pyplot as plt\n",
    "import torch\n",
    "import sys\n",
    "sys.path.append(r'C:\\Study\\SpeechAcquisitionModel')\n",
    "from src.reinforcement.goal_directed_model_based_rl.model import SimpleStochasticActorCritic,\\\n",
    "    SimpleStochasticModelDynamics, SimpleDeterministicPolicy, SimpleDeterministicModelDynamics, EnsembleDeterministicModelDynamicsDeltaPredict\n",
    "from src.reinforcement.goal_directed_model_based_rl.env import VTLEnvWithReferenceTransitionMaskedEntropyScore\n",
    "from src.reinforcement.goal_directed_model_based_rl.algs.model_based_multi_step_backprop_with_ensemble_classifier import ModelBasedMultiStepBackPropWithEnsembleClassifier\n",
    "from src.speech_classification.pytorch_conv_lstm import LstmNet, LstmNetEnsemble\n"
   ]
  },
  {
   "cell_type": "code",
   "execution_count": null,
   "metadata": {},
   "outputs": [],
   "source": [
    "from matplotlib import rc\n",
    "rc('font',**{'family':'sans-serif','sans-serif':['Helvetica']})\n",
    "## for Palatino and other serif fonts use:\n",
    "#rc('font',**{'family':'serif','serif':['Palatino']})\n",
    "rc('text', usetex=True)"
   ]
  },
  {
   "cell_type": "code",
   "execution_count": null,
   "metadata": {},
   "outputs": [],
   "source": [
    "model_dir = r'C:\\Study\\SpeechAcquisitionModel\\reports\\videos\\video_ensemble_multi_step_05_17_2019_04_36_PM'"
   ]
  },
  {
   "cell_type": "code",
   "execution_count": null,
   "metadata": {},
   "outputs": [],
   "source": [
    "with open(model_dir+ '/config.json') as data_file:\n",
    "    kwargs = json.load(data_file)"
   ]
  },
  {
   "cell_type": "code",
   "execution_count": null,
   "metadata": {},
   "outputs": [],
   "source": [
    "device = 'cpu'\n",
    "kwargs['mbbackprop']['device'] = device\n",
    "\n",
    "speaker_fname = os.path.join(kwargs['env']['vtl_dir'], 'JD2.speaker')\n",
    "lib_path = os.path.join(kwargs['env']['vtl_dir'], 'VocalTractLab2.dll')\n",
    "\n",
    "env = VTLEnvWithReferenceTransitionMaskedEntropyScore(lib_path, speaker_fname, **kwargs['env'])\n",
    "env.reset(train_mode=True)"
   ]
  },
  {
   "cell_type": "code",
   "execution_count": null,
   "metadata": {},
   "outputs": [],
   "source": [
    "model_dynamics = torch.load(model_dir + '/model_dynamics.pickle')\n",
    "agent = torch.load(model_dir + '/agent.pickle')\n"
   ]
  },
  {
   "cell_type": "code",
   "execution_count": 2,
   "metadata": {
    "scrolled": false
   },
   "outputs": [
    {
     "ename": "NameError",
     "evalue": "name 'env' is not defined",
     "output_type": "error",
     "traceback": [
      "\u001b[1;31m---------------------------------------------------------------------------\u001b[0m",
      "\u001b[1;31mNameError\u001b[0m                                 Traceback (most recent call last)",
      "\u001b[1;32m<ipython-input-2-878d73780c1f>\u001b[0m in \u001b[0;36m<module>\u001b[1;34m()\u001b[0m\n\u001b[0;32m      4\u001b[0m \u001b[0mmisses\u001b[0m \u001b[1;33m=\u001b[0m \u001b[1;33m[\u001b[0m\u001b[1;33m]\u001b[0m\u001b[1;33m\u001b[0m\u001b[0m\n\u001b[0;32m      5\u001b[0m \u001b[1;33m\u001b[0m\u001b[0m\n\u001b[1;32m----> 6\u001b[1;33m \u001b[0mT\u001b[0m \u001b[1;33m=\u001b[0m \u001b[0mlen\u001b[0m\u001b[1;33m(\u001b[0m\u001b[0menv\u001b[0m\u001b[1;33m.\u001b[0m\u001b[0mget_current_reference\u001b[0m\u001b[1;33m(\u001b[0m\u001b[1;33m)\u001b[0m\u001b[1;33m)\u001b[0m\u001b[1;33m\u001b[0m\u001b[0m\n\u001b[0m\u001b[0;32m      7\u001b[0m \u001b[0mstate0\u001b[0m \u001b[1;33m=\u001b[0m \u001b[0menv\u001b[0m\u001b[1;33m.\u001b[0m\u001b[0mreset\u001b[0m\u001b[1;33m(\u001b[0m\u001b[1;33m)\u001b[0m\u001b[1;33m\u001b[0m\u001b[0m\n\u001b[0;32m      8\u001b[0m \u001b[0mstate\u001b[0m \u001b[1;33m=\u001b[0m \u001b[0mstate0\u001b[0m\u001b[1;33m\u001b[0m\u001b[0m\n",
      "\u001b[1;31mNameError\u001b[0m: name 'env' is not defined"
     ]
    }
   ],
   "source": [
    "ep_states = []\n",
    "ep_states_pred = []\n",
    "ep_actions = []\n",
    "misses = []\n",
    "\n",
    "T = len(env.get_current_reference())\n",
    "state0 = env.reset()\n",
    "state = state0\n",
    "env.render()\n",
    "ep_states.append(state)\n",
    "ep_states_pred.append(state[:-env.goal_dim])\n",
    "state = env.normalize(state, env.state_bound)\n",
    "\n",
    "# axes[0].cla()\n",
    "\n",
    "score = 0.\n",
    "\n",
    "agent.eval()\n",
    "model_dynamics.eval()\n",
    "step = 0\n",
    "terminated = False\n",
    "\n",
    "probs = []\n",
    "entropies = []\n",
    "\n",
    "while True:\n",
    "    state_tensor = torch.tensor(torch.from_numpy(state).float().to(device).view(1, -1), requires_grad=True)\n",
    "    action = agent(state_tensor).detach().cpu().numpy().squeeze()\n",
    "    ep_actions.append(action)\n",
    "    action_denorm = env.denormalize(action, env.action_bound)\n",
    "    next_state, reward, done, _ = env.step(action_denorm)\n",
    "\n",
    "    probs.append(reward[0].detach().cpu().numpy())\n",
    "    entropies.append(reward[1].detach().cpu().numpy())\n",
    "\n",
    "    action_tensor = torch.tensor(torch.from_numpy(action).float().to(device).view(1,-1), requires_grad=True)\n",
    "    \n",
    "    next_state_pred, next_state_pred_std, _ = model_dynamics(state_tensor, action_tensor)\n",
    "    \n",
    "    \n",
    "    saliency_state = []    \n",
    "    saliency_action = []\n",
    "\n",
    "    for d in range(next_state_pred.shape[-1]):\n",
    "#         state_tensor.grad.data.zero_()\n",
    "#         next_state_pred[:, d].backward(retain_graph=True)\n",
    "        grad = torch.autograd.grad(next_state_pred[:, d], state_tensor, retain_graph=True)\n",
    "#         grad = state_tensor.grad.data.detach().numpy()\n",
    "        saliency_state.append(grad[0].numpy())\n",
    "    \n",
    "        grad1 = torch.autograd.grad(next_state_pred[:, d], action_tensor, retain_graph=True)\n",
    "        saliency_action.append(grad1[0].numpy())\n",
    "    \n",
    "    \n",
    "#         state_tensor.grad.data.zero_()\n",
    "    saliency_state = np.array(saliency_state).squeeze()\n",
    "    plt.imshow(saliency_state[-26:, :])\n",
    "    plt.colorbar()\n",
    "    plt.title(r'$d S_{pred}^{acoustic} /  dS $')\n",
    "    plt.show()\n",
    "    \n",
    "    saliency_state = np.array(saliency_state).squeeze()\n",
    "    plt.imshow(saliency_state[:-26, :])\n",
    "    plt.colorbar()\n",
    "    plt.title(r'$d S_{pred}^{artic} /  dS $')\n",
    "    plt.show()\n",
    "    \n",
    "    saliency_action = np.array(saliency_action).squeeze()\n",
    "    plt.imshow(saliency_action)\n",
    "    plt.colorbar()\n",
    "    plt.title(r'$d S_{pred} /  dA $')\n",
    "    plt.show()\n",
    "    \n",
    "  \n",
    "    \n",
    "    \n",
    "    \n",
    "    next_state_pred = env.denormalize(next_state_pred.detach().cpu().numpy().squeeze(), env.state_bound[:-env.goal_dim])\n",
    "\n",
    "    ep_states.append(next_state)\n",
    "    ep_states_pred.append(next_state_pred)\n",
    "    next_state = env.normalize(next_state, env.state_bound)\n",
    "    env.render()\n",
    "    \n",
    "    miss = torch.abs(torch.from_numpy(next_state).float().to(device)[:-env.goal_dim][torch.from_numpy(np.array(env.state_goal_mask, dtype=np.uint8)).byte()] -\n",
    "                     torch.from_numpy(state).float().to(device)[-env.goal_dim:])\n",
    "\n",
    "    misses.append(miss[:].max().detach().cpu().numpy())\n",
    "\n",
    "    if len(misses) > 3 and np.all(np.array(misses[-3:]) > 0.1) and not terminated:\n",
    "        terminated = True\n",
    "        res_step = step\n",
    "        miss_max_idx = np.argmax(miss[:].detach().cpu().numpy())\n",
    "    elif not terminated:\n",
    "        score = step\n",
    "   \n",
    "    if np.any(done):\n",
    "\n",
    "        break\n",
    "    state = next_state\n",
    "    step += 1"
   ]
  },
  {
   "cell_type": "code",
   "execution_count": null,
   "metadata": {},
   "outputs": [],
   "source": []
  },
  {
   "cell_type": "code",
   "execution_count": null,
   "metadata": {},
   "outputs": [],
   "source": []
  },
  {
   "cell_type": "code",
   "execution_count": null,
   "metadata": {},
   "outputs": [],
   "source": []
  }
 ],
 "metadata": {
  "kernelspec": {
   "display_name": "Python 3",
   "language": "python",
   "name": "python3"
  },
  "language_info": {
   "codemirror_mode": {
    "name": "ipython",
    "version": 3
   },
   "file_extension": ".py",
   "mimetype": "text/x-python",
   "name": "python",
   "nbconvert_exporter": "python",
   "pygments_lexer": "ipython3",
   "version": "3.6.3"
  }
 },
 "nbformat": 4,
 "nbformat_minor": 1
}
