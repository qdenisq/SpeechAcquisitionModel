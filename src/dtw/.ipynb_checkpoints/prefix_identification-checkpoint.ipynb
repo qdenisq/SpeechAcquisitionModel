{
 "cells": [
  {
   "cell_type": "code",
   "execution_count": 28,
   "metadata": {},
   "outputs": [],
   "source": [
    "import numpy as np\n",
    "from scipy.spatial.distance import euclidean\n",
    "import scipy\n",
    "import torch\n",
    "\n",
    "import dtw\n",
    "from fastdtw import fastdtw\n",
    "\n",
    "from src.speech_classification.audio_processing import AudioPreprocessorFbank, SpeechCommandsDataCollector\n",
    "from src.siamese_net_sound_similarity.train import SiameseSpeechCommandsDataCollector, SiameseLSTMNet\n",
    "\n",
    "import matplotlib.pyplot as plt\n",
    "import matplotlib\n",
    "import seaborn as sns\n",
    "sns.set()\n",
    "\n",
    "%matplotlib inline"
   ]
  },
  {
   "cell_type": "markdown",
   "metadata": {},
   "source": [
    "## Load data"
   ]
  },
  {
   "cell_type": "code",
   "execution_count": 2,
   "metadata": {},
   "outputs": [],
   "source": [
    "wanted_words = ['bed', 'bird', 'cat', 'dog', 'down', 'eight', 'five', 'four', 'go', 'happy', 'house', 'left',\n",
    "                'marvin',\n",
    "                'nine', 'no', 'off', 'on', 'one', 'right', 'seven', 'sheila', 'six', 'stop', 'three', 'tree', 'two',\n",
    "                'up', 'wow', 'yes', 'zero']\n",
    "\n",
    "wanted_words_combined = wanted_words\n",
    "\n",
    "model_settings = {\n",
    "    'dct_coefficient_count': 26,\n",
    "    'label_count': len(wanted_words_combined) + 2,\n",
    "    'hidden_reccurent_cells_count': 128,\n",
    "    'winlen': 0.04,\n",
    "    'winstep': 0.04\n",
    "}"
   ]
  },
  {
   "cell_type": "code",
   "execution_count": 3,
   "metadata": {},
   "outputs": [],
   "source": [
    "preproc = AudioPreprocessorFbank(nfilt=model_settings['dct_coefficient_count'], winlen=model_settings['winlen'],\n",
    "                                     winstep=model_settings['winstep'])\n",
    "\n",
    "data_iter = SiameseSpeechCommandsDataCollector(preproc,\n",
    "                                        data_dir=r'C:\\Study\\Speech_command_classification\\speech_dataset',\n",
    "                                        wanted_words=wanted_words_combined,\n",
    "                                        testing_percentage=10,\n",
    "                                        validation_percentage=10\n",
    "                                        )\n",
    "\n",
    "index_to_word = {v:k for k,v in data_iter.word_to_index.items()}"
   ]
  },
  {
   "cell_type": "code",
   "execution_count": 4,
   "metadata": {},
   "outputs": [],
   "source": [
    "n_mini_batch_size = 1\n",
    "data = data_iter.get_data(n_mini_batch_size, 0, 'training')\n",
    "labels = data['y']\n",
    "\n",
    "duplicates = data_iter.get_duplicates(labels, 0, 'training')\n",
    "assert np.any(labels == duplicates['y'])\n",
    "\n",
    "non_duplicates = data_iter.get_nonduplicates(labels, 0, 'training')\n",
    "assert np.any(labels != non_duplicates['y'])"
   ]
  },
  {
   "cell_type": "code",
   "execution_count": 5,
   "metadata": {},
   "outputs": [
    {
     "name": "stdout",
     "output_type": "stream",
     "text": [
      "(1, 23, 26)\n"
     ]
    },
    {
     "data": {
      "image/png": "[encoded data removed]",
      "text/plain": [
       "<matplotlib.figure.Figure at 0x38105da0>"
      ]
     },
     "metadata": {},
     "output_type": "display_data"
    },
    {
     "data": {
      "image/png": "[encoded data removed]",
      "text/plain": [
       "<matplotlib.figure.Figure at 0x36ee3908>"
      ]
     },
     "metadata": {},
     "output_type": "display_data"
    },
    {
     "data": {
      "image/png": "[encoded data removed]",
      "text/plain": [
       "<matplotlib.figure.Figure at 0x375b4748>"
      ]
     },
     "metadata": {},
     "output_type": "display_data"
    }
   ],
   "source": [
    "print(data['x'].shape)\n",
    "plt.figure()\n",
    "plt.imshow(data['x'].squeeze().T)\n",
    "label = index_to_word[labels[0]]\n",
    "plt.title(f'{label}')\n",
    "\n",
    "plt.figure()\n",
    "plt.imshow(duplicates['x'].squeeze().T)\n",
    "label = index_to_word[labels[0]]\n",
    "plt.title(f'Duplicate: {label}')\n",
    "\n",
    "plt.figure()\n",
    "plt.imshow(non_duplicates['x'].squeeze().T)\n",
    "non_duplicate_label = index_to_word[non_duplicates['y'][0]]\n",
    "plt.title(f'Non-duplicate: {non_duplicate_label}')\n",
    "plt.show()"
   ]
  },
  {
   "cell_type": "code",
   "execution_count": 6,
   "metadata": {},
   "outputs": [
    {
     "name": "stdout",
     "output_type": "stream",
     "text": [
      "duplicates optimal path\n",
      "[(0, 0), (1, 1), (2, 2), (3, 3), (4, 4), (5, 5), (6, 6), (7, 7), (8, 8), (9, 9), (10, 10), (11, 11), (12, 12), (13, 13), (14, 14), (15, 15), (16, 16), (17, 17), (18, 18), (19, 19), (20, 20), (21, 21), (22, 22)]\n",
      "duplicates optimal path\n",
      "[(0, 0), (1, 0), (2, 0), (3, 0), (4, 0), (5, 0), (6, 0), (7, 0), (8, 0), (9, 0), (10, 1), (11, 2), (11, 3), (12, 4), (12, 5), (12, 6), (12, 7), (12, 8), (12, 9), (12, 10), (12, 11), (13, 12), (14, 13), (15, 14), (16, 15), (17, 16), (18, 17), (19, 18), (19, 19), (19, 20), (19, 21), (20, 22), (21, 23), (22, 24)]\n",
      "non-duplicates optimal path\n",
      "[(0, 0), (0, 1), (1, 2), (2, 3), (3, 4), (4, 5), (5, 6), (6, 7), (7, 8), (8, 9), (8, 10), (8, 11), (9, 12), (9, 13), (10, 14), (11, 15), (12, 16), (13, 17), (14, 18), (15, 19), (15, 20), (15, 21), (16, 22), (16, 23), (17, 24), (18, 24), (19, 24), (20, 24), (21, 24), (22, 24)]\n"
     ]
    },
    {
     "data": {
      "image/png": "[encoded data removed]",
      "text/plain": [
       "<matplotlib.figure.Figure at 0x36f1cbe0>"
      ]
     },
     "metadata": {},
     "output_type": "display_data"
    }
   ],
   "source": [
    "x = data['x'].squeeze()\n",
    "\n",
    "\n",
    "fig, axes = plt.subplots(1, 3, figsize=(15,5))\n",
    "\n",
    "\n",
    "# same thing dtw]\n",
    "\n",
    "y = data['x'].squeeze()\n",
    "res = dtw.dtw(x, y, dist=euclidean)\n",
    "\n",
    "axes[0].imshow(res[1])\n",
    "axes[0].plot(res[3][0], res[3][1], color='r')\n",
    "axes[0].title.set_text(f'same signal distance:\\n {res[0]}')\n",
    "print('duplicates optimal path')\n",
    "print(list(zip(*res[3])))\n",
    "\n",
    "# duplicates dtw\n",
    "\n",
    "y = duplicates['x'].squeeze()\n",
    "res = dtw.dtw(x, y, dist=euclidean)\n",
    "\n",
    "# plt.figure()\n",
    "axes[1].imshow(res[1])\n",
    "axes[1].plot(res[3][0], res[3][1], color='r')\n",
    "axes[1].title.set_text(f'duplicates distance:\\n {res[0]}')\n",
    "print('duplicates optimal path')\n",
    "print(list(zip(*res[3])))\n",
    "\n",
    "\n",
    "# non-duplicates dtw\n",
    "\n",
    "y = non_duplicates['x'].squeeze()\n",
    "res = dtw.dtw(x, y, dist=euclidean)\n",
    "\n",
    "# plt.figure()\n",
    "axes[2].imshow(res[1])\n",
    "axes[2].plot(res[3][0], res[3][1], color='r')\n",
    "axes[2].title.set_text(f'non-duplicates distance:\\n {res[0]}')\n",
    "print('non-duplicates optimal path')\n",
    "print(list(zip(*res[3])))"
   ]
  },
  {
   "cell_type": "code",
   "execution_count": 7,
   "metadata": {},
   "outputs": [
    {
     "name": "stdout",
     "output_type": "stream",
     "text": [
      "duplicates optimal path\n",
      "[(0, 0), (1, 1), (2, 2), (3, 3), (4, 4), (5, 5), (6, 6), (7, 7), (8, 8), (9, 9), (9, 10), (9, 11), (9, 12), (9, 13), (9, 14), (9, 15), (9, 16), (9, 17), (9, 18), (9, 19), (9, 20), (9, 21), (9, 22)]\n",
      "duplicates optimal path\n",
      "[(0, 0), (0, 1), (1, 2), (2, 3), (3, 4), (4, 5), (5, 6), (6, 7), (7, 8), (8, 9), (9, 10), (9, 11), (9, 12), (9, 13), (9, 14), (9, 15), (9, 16), (9, 17), (9, 18), (9, 19), (9, 20), (9, 21), (9, 22), (9, 23), (9, 24)]\n",
      "non-duplicates optimal path\n",
      "[(0, 0), (0, 1), (0, 2), (0, 3), (0, 4), (0, 5), (0, 6), (0, 7), (0, 8), (0, 9), (1, 10), (2, 11), (3, 12), (3, 13), (3, 14), (3, 15), (3, 16), (3, 17), (4, 18), (5, 19), (6, 20), (7, 21), (8, 22), (9, 23), (9, 24)]\n"
     ]
    },
    {
     "data": {
      "image/png": "[encoded data removed]",
      "text/plain": [
       "<matplotlib.figure.Figure at 0x38772240>"
      ]
     },
     "metadata": {},
     "output_type": "display_data"
    }
   ],
   "source": [
    "x = data['x'].squeeze()[:10]\n",
    "\n",
    "\n",
    "fig, axes = plt.subplots(1, 3, figsize=(15,5))\n",
    "\n",
    "\n",
    "# same thing dtw]\n",
    "\n",
    "y = data['x'].squeeze()\n",
    "res = dtw.dtw(x, y, dist=euclidean)\n",
    "\n",
    "axes[0].imshow(res[1])\n",
    "axes[0].plot(res[3][0], res[3][1], color='r')\n",
    "axes[0].title.set_text(f'same signal distance:\\n {res[0]}')\n",
    "print('duplicates optimal path')\n",
    "print(list(zip(*res[3])))\n",
    "\n",
    "# duplicates dtw\n",
    "\n",
    "y = duplicates['x'].squeeze()\n",
    "res = dtw.dtw(x, y, dist=euclidean)\n",
    "\n",
    "# plt.figure()\n",
    "axes[1].imshow(res[1])\n",
    "axes[1].plot(res[3][0], res[3][1], color='r')\n",
    "axes[1].title.set_text(f'duplicates distance:\\n {res[0]}')\n",
    "print('duplicates optimal path')\n",
    "print(list(zip(*res[3])))\n",
    "\n",
    "\n",
    "# non-duplicates dtw\n",
    "\n",
    "y = non_duplicates['x'].squeeze()\n",
    "res = dtw.dtw(x, y, dist=euclidean)\n",
    "\n",
    "# plt.figure()\n",
    "axes[2].imshow(res[1])\n",
    "axes[2].plot(res[3][0], res[3][1], color='r')\n",
    "axes[2].title.set_text(f'non-duplicates distance:\\n {res[0]}')\n",
    "print('non-duplicates optimal path')\n",
    "print(list(zip(*res[3])))"
   ]
  },
  {
   "cell_type": "markdown",
   "metadata": {},
   "source": [
    "# Gather Data for analysis"
   ]
  },
  {
   "cell_type": "code",
   "execution_count": null,
   "metadata": {},
   "outputs": [],
   "source": [
    "n_mini_batch_size = 1000\n",
    "\n",
    "# gather data\n",
    "\n",
    "\n",
    "data = data_iter.get_data(n_mini_batch_size, 0, 'training')\n",
    "labels = data['y']\n",
    "\n",
    "duplicates = data_iter.get_duplicates(labels, 0, 'training')\n",
    "assert np.any(labels == duplicates['y'])\n",
    "\n",
    "non_duplicates = data_iter.get_nonduplicates(labels, 0, 'training')\n",
    "assert np.any(labels != non_duplicates['y'])\n"
   ]
  },
  {
   "cell_type": "markdown",
   "metadata": {},
   "source": [
    "## DTW distribution on raw data"
   ]
  },
  {
   "cell_type": "code",
   "execution_count": null,
   "metadata": {},
   "outputs": [],
   "source": [
    "\n",
    "# initialize dist_lists\n",
    "\n",
    "duplicates_dtw = []\n",
    "non_duplicates_dtw = []\n",
    "\n",
    "for i in range(n_mini_batch_size):\n",
    "    print(i, end='\\r')\n",
    "    x = data['x'][i].squeeze()\n",
    "    \n",
    "    y_duplicate = duplicates['x'][i].squeeze()\n",
    "    duplicates_dtw.append(dtw.dtw(x, y_duplicate, dist=euclidean)[0])\n",
    "\n",
    "    y_non_duplicate = non_duplicates['x'][i].squeeze()\n",
    "    non_duplicates_dtw.append(dtw.dtw(x, y_non_duplicate, dist=euclidean)[0])    "
   ]
  },
  {
   "cell_type": "code",
   "execution_count": null,
   "metadata": {},
   "outputs": [],
   "source": [
    "bins = np.linspace(0, 1, 100)\n",
    "fig, axes = plt.subplots(2, 1, figsize=(10,10))\n",
    "\n",
    "axes[0].hist(duplicates_dtw, bins=bins,density=True)\n",
    "axes[0].title.set_text('duplicates DTW')\n",
    "\n",
    "axes[1].hist(non_duplicates_dtw, bins=bins, color='y', density=True)\n",
    "axes[1].title.set_text('non-duplicates DTW')\n",
    "plt.show()"
   ]
  },
  {
   "cell_type": "markdown",
   "metadata": {},
   "source": [
    "### KL Divergence between two DTW distributions:"
   ]
  },
  {
   "cell_type": "code",
   "execution_count": null,
   "metadata": {},
   "outputs": [],
   "source": [
    "hist_dup, _ = np.histogram(duplicates_dtw, bins=bins)\n",
    "hist_dup = hist_dup / np.sum(hist_dup)\n",
    "\n",
    "hist_non_dup, _ = np.histogram(non_duplicates_dtw, bins=bins)\n",
    "hist_non_dup = hist_non_dup / np.sum(hist_non_dup)\n",
    "\n",
    "dkl = scipy.special.kl_div(hist_dup+1e-5, hist_non_dup+1e-5).sum()\n",
    "print(f\"DKL is: {dkl:.4f}\")\n"
   ]
  },
  {
   "cell_type": "markdown",
   "metadata": {},
   "source": [
    "### As it can be seen, DTW calculated on MFCCs signals failed to capture different and similar samples showing no significant difference between duplicates and non-duplicates pairs. Kullback-Leibler divergence just proves this fact that P (distribution of distances between duplicate samples) and Q (non-duplicate ones) have no significant difference."
   ]
  },
  {
   "cell_type": "markdown",
   "metadata": {},
   "source": [
    "# Improving DTW using latent variables from LSTM classifier as a signal"
   ]
  },
  {
   "cell_type": "code",
   "execution_count": null,
   "metadata": {},
   "outputs": [],
   "source": [
    "# load nn\n",
    "\n",
    "nn_fname = r'C:/Study/SpeechAcquisitionModel/reports/seamise_net_09_10_2019_02_39_PM/net_0.6929299235343933.net'\n",
    "nn = torch.load(nn_fname)"
   ]
  },
  {
   "cell_type": "code",
   "execution_count": null,
   "metadata": {},
   "outputs": [],
   "source": [
    "nn_input = torch.from_numpy(data['x']).cuda().float()"
   ]
  },
  {
   "cell_type": "code",
   "execution_count": null,
   "metadata": {},
   "outputs": [],
   "source": [
    "z, _ = nn.single_forward(nn_input)\n",
    "z = z.detach().cpu().numpy()\n",
    "\n",
    "duplicates_z, _ = nn.single_forward(torch.from_numpy(duplicates['x']).cuda().float())\n",
    "duplicates_z = duplicates_z.detach().cpu().numpy()\n",
    "\n",
    "non_duplicates_z, _ = nn.single_forward(torch.from_numpy(non_duplicates['x']).cuda().float())\n",
    "non_duplicates_z = non_duplicates_z.detach().cpu().numpy()"
   ]
  },
  {
   "cell_type": "code",
   "execution_count": null,
   "metadata": {},
   "outputs": [],
   "source": [
    "plt.figure()\n",
    "res = plt.imshow(out[0].T)\n",
    "label = index_to_word[data['y'][0]]\n",
    "_ = plt.title(f'{label}')\n",
    "\n",
    "plt.figure()\n",
    "res = plt.imshow(out[10].T)\n",
    "label = index_to_word[data['y'][10]]\n",
    "_ = plt.title(f'{label}')\n",
    "\n",
    "plt.figure()\n",
    "res = plt.imshow(out[20].T)\n",
    "label = index_to_word[data['y'][20]]\n",
    "_ = plt.title(f'{label}')\n"
   ]
  },
  {
   "cell_type": "markdown",
   "metadata": {},
   "source": [
    "# DTW distribution in latent space z"
   ]
  },
  {
   "cell_type": "code",
   "execution_count": null,
   "metadata": {},
   "outputs": [],
   "source": [
    "\n",
    "# initialize dist_lists\n",
    "\n",
    "duplicates_dtw_z = []\n",
    "non_duplicates_dtw_z = []\n",
    "\n",
    "for i in range(n_mini_batch_size):\n",
    "    print(i, end='\\r')\n",
    "    x = z[i].squeeze()\n",
    "    \n",
    "    y_duplicate = duplicates_z[i].squeeze()\n",
    "    duplicates_dtw_z.append(dtw.dtw(x, y_duplicate, dist=euclidean)[0])\n",
    "\n",
    "    y_non_duplicate = non_duplicates_z[i].squeeze()\n",
    "    non_duplicates_dtw_z.append(dtw.dtw(x, y_non_duplicate, dist=euclidean)[0])    "
   ]
  },
  {
   "cell_type": "code",
   "execution_count": null,
   "metadata": {},
   "outputs": [],
   "source": [
    "bins = np.linspace(0, 1, 100)\n",
    "fig, axes = plt.subplots(2, 1, figsize=(10,10))\n",
    "\n",
    "axes[0].hist(duplicates_dtw_z, bins=bins,density=True)\n",
    "axes[0].title.set_text('duplicates DTW')\n",
    "\n",
    "axes[1].hist(non_duplicates_dtw_z, bins=bins, color='y', density=True)\n",
    "axes[1].title.set_text('non-duplicates DTW')\n",
    "plt.show()"
   ]
  },
  {
   "cell_type": "markdown",
   "metadata": {},
   "source": [
    "### KL Divergence between two DTW distributions:"
   ]
  },
  {
   "cell_type": "code",
   "execution_count": null,
   "metadata": {},
   "outputs": [],
   "source": [
    "hist_dup, _ = np.histogram(duplicates_dtw_z, bins=bins)\n",
    "hist_dup = hist_dup / np.sum(hist_dup)\n",
    "\n",
    "hist_non_dup, _ = np.histogram(non_duplicates_dtw_z, bins=bins)\n",
    "hist_non_dup = hist_non_dup / np.sum(hist_non_dup)\n",
    "\n",
    "dkl = scipy.special.kl_div(hist_dup+1e-5, hist_non_dup+1e-5).sum()\n",
    "print(f\"DKL is: {dkl:.4f}\")\n"
   ]
  }
 ],
 "metadata": {
  "kernelspec": {
   "display_name": "Python 3",
   "language": "python",
   "name": "python3"
  },
  "language_info": {
   "codemirror_mode": {
    "name": "ipython",
    "version": 3
   },
   "file_extension": ".py",
   "mimetype": "text/x-python",
   "name": "python",
   "nbconvert_exporter": "python",
   "pygments_lexer": "ipython3",
   "version": "3.6.3"
  }
 },
 "nbformat": 4,
 "nbformat_minor": 1
}
